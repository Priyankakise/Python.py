{
  "nbformat": 4,
  "nbformat_minor": 0,
  "metadata": {
    "colab": {
      "provenance": []
    },
    "kernelspec": {
      "name": "python3",
      "display_name": "Python 3"
    },
    "language_info": {
      "name": "python"
    }
  },
  "cells": [
    {
      "cell_type": "code",
      "execution_count": 2,
      "metadata": {
        "id": "4eJs22MNb691"
      },
      "outputs": [],
      "source": [
        "## Exercises\n",
        "\n",
        "# Answer the questions or complete the tasks outlined in bold below, use the specific method described if applicable."
      ]
    },
    {
      "cell_type": "code",
      "source": [
        "# What is 7 to the power of 4?\n",
        "7**4"
      ],
      "metadata": {
        "colab": {
          "base_uri": "https://localhost:8080/"
        },
        "id": "99n4F0Jzc8Gy",
        "outputId": "9f6e76ef-6908-4ad5-c701-b9807ceab71e"
      },
      "execution_count": 26,
      "outputs": [
        {
          "output_type": "execute_result",
          "data": {
            "text/plain": [
              "2401"
            ]
          },
          "metadata": {},
          "execution_count": 26
        }
      ]
    },
    {
      "cell_type": "code",
      "source": [
        "# Split this string:\n",
        "# s = \"Hi Priyanka here!\"\n",
        "# into a list.\n",
        "\"Hi Priyanka here!\".split()"
      ],
      "metadata": {
        "colab": {
          "base_uri": "https://localhost:8080/"
        },
        "id": "xMCMc_2-dt6T",
        "outputId": "b36ab5ba-9d24-45c4-c524-457cabe7a48c"
      },
      "execution_count": 24,
      "outputs": [
        {
          "output_type": "execute_result",
          "data": {
            "text/plain": [
              "['Hi', 'Priyanka', 'here!']"
            ]
          },
          "metadata": {},
          "execution_count": 24
        }
      ]
    },
    {
      "cell_type": "code",
      "source": [
        "# Given the variables:\n",
        "# planet = \"Earth\"\n",
        "# diameter = 12742\n",
        "# Use .format() to print the following string:\n",
        "# The diameter of Earth is 12742 kilometers.\n",
        "planet = \"Earth\"\n",
        "diameter = 12742\n",
        "print(\"The diameter of {} is {} kilometers\".format(planet,diameter))"
      ],
      "metadata": {
        "colab": {
          "base_uri": "https://localhost:8080/"
        },
        "id": "cm7h6kJRd_i_",
        "outputId": "7cbd9293-fe79-4256-fbad-6ae3beef517a"
      },
      "execution_count": 6,
      "outputs": [
        {
          "output_type": "stream",
          "name": "stdout",
          "text": [
            "The diameter of Earth is 12742 kilometers\n"
          ]
        }
      ]
    },
    {
      "cell_type": "code",
      "source": [
        "# Given this nested list, use indexing to grab the word \"hello\"\n",
        "lst = [1,2,[3,4],[5,[100,200,['hello']],23,11],1,7]\n",
        "lst[3][1][2]"
      ],
      "metadata": {
        "colab": {
          "base_uri": "https://localhost:8080/"
        },
        "id": "ueMFuiNXeKgH",
        "outputId": "bd88fa5d-cfc0-4cf8-97a9-712e84f374dc"
      },
      "execution_count": 7,
      "outputs": [
        {
          "output_type": "execute_result",
          "data": {
            "text/plain": [
              "['hello']"
            ]
          },
          "metadata": {},
          "execution_count": 7
        }
      ]
    },
    {
      "cell_type": "code",
      "source": [
        "# Given this nested dictionary grab the word \"hello\". Be prepared, this will be annoying/tricky\n",
        "d = {'k1':[1,2,3,{'tricky':['oh','man','inception',{'target':[1,2,3,'hello']}]}]}\n",
        "d['k1'][3]['tricky'][3]['target'][3]"
      ],
      "metadata": {
        "colab": {
          "base_uri": "https://localhost:8080/",
          "height": 35
        },
        "id": "FDJnOtEyeSwv",
        "outputId": "dc8d95a5-f415-4abe-bece-e5916a0ed232"
      },
      "execution_count": 8,
      "outputs": [
        {
          "output_type": "execute_result",
          "data": {
            "text/plain": [
              "'hello'"
            ],
            "application/vnd.google.colaboratory.intrinsic+json": {
              "type": "string"
            }
          },
          "metadata": {},
          "execution_count": 8
        }
      ]
    },
    {
      "cell_type": "code",
      "source": [
        "# What is the main difference between a tuple and a list?\n",
        "lst = [1,2,3,4]\n",
        "lst.append(5)\n",
        "print(lst)      # list are mutuble\n",
        "tup = (1,2,3,4)\n",
        "tup.delete(4)\n",
        "print(tup)      # Tuple is immutable"
      ],
      "metadata": {
        "colab": {
          "base_uri": "https://localhost:8080/",
          "height": 245
        },
        "id": "p9iz2Awseabf",
        "outputId": "10a2992d-296a-49e0-acd9-44be6fb4e5b5"
      },
      "execution_count": 9,
      "outputs": [
        {
          "output_type": "stream",
          "name": "stdout",
          "text": [
            "[1, 2, 3, 4, 5]\n"
          ]
        },
        {
          "output_type": "error",
          "ename": "AttributeError",
          "evalue": "'tuple' object has no attribute 'delete'",
          "traceback": [
            "\u001b[0;31m---------------------------------------------------------------------------\u001b[0m",
            "\u001b[0;31mAttributeError\u001b[0m                            Traceback (most recent call last)",
            "\u001b[0;32m<ipython-input-9-c8e58f94199c>\u001b[0m in \u001b[0;36m<cell line: 6>\u001b[0;34m()\u001b[0m\n\u001b[1;32m      4\u001b[0m \u001b[0mprint\u001b[0m\u001b[0;34m(\u001b[0m\u001b[0mlst\u001b[0m\u001b[0;34m)\u001b[0m      \u001b[0;31m# list are mutuble\u001b[0m\u001b[0;34m\u001b[0m\u001b[0;34m\u001b[0m\u001b[0m\n\u001b[1;32m      5\u001b[0m \u001b[0mtup\u001b[0m \u001b[0;34m=\u001b[0m \u001b[0;34m(\u001b[0m\u001b[0;36m1\u001b[0m\u001b[0;34m,\u001b[0m\u001b[0;36m2\u001b[0m\u001b[0;34m,\u001b[0m\u001b[0;36m3\u001b[0m\u001b[0;34m,\u001b[0m\u001b[0;36m4\u001b[0m\u001b[0;34m)\u001b[0m\u001b[0;34m\u001b[0m\u001b[0;34m\u001b[0m\u001b[0m\n\u001b[0;32m----> 6\u001b[0;31m \u001b[0mtup\u001b[0m\u001b[0;34m.\u001b[0m\u001b[0mdelete\u001b[0m\u001b[0;34m(\u001b[0m\u001b[0;36m4\u001b[0m\u001b[0;34m)\u001b[0m\u001b[0;34m\u001b[0m\u001b[0;34m\u001b[0m\u001b[0m\n\u001b[0m\u001b[1;32m      7\u001b[0m \u001b[0mprint\u001b[0m\u001b[0;34m(\u001b[0m\u001b[0mtup\u001b[0m\u001b[0;34m)\u001b[0m      \u001b[0;31m# Tuple is immutable\u001b[0m\u001b[0;34m\u001b[0m\u001b[0;34m\u001b[0m\u001b[0m\n",
            "\u001b[0;31mAttributeError\u001b[0m: 'tuple' object has no attribute 'delete'"
          ]
        }
      ]
    },
    {
      "cell_type": "code",
      "source": [
        "# Create a function that grabs the email website domain from a string in the form:\n",
        "# user@domain.com\n",
        "# So for example, passing \"user@domain.com\" would return: domain.com\n",
        "def fun1():\n",
        "    a = 'user@domain.com'.split('@')[-1]\n",
        "    print(a)\n",
        "fun1()"
      ],
      "metadata": {
        "colab": {
          "base_uri": "https://localhost:8080/"
        },
        "id": "_rBeUlB8ehA3",
        "outputId": "9fa94c14-1d0c-46ff-dce7-f898238c2e1b"
      },
      "execution_count": 10,
      "outputs": [
        {
          "output_type": "stream",
          "name": "stdout",
          "text": [
            "domain.com\n"
          ]
        }
      ]
    },
    {
      "cell_type": "code",
      "source": [
        "# ** Create a basic function that returns True if the word 'dog' is contained in the input string. Don't worry about edge cases like a punctuation being attached to the word dog, but do account for capitalization. **\n",
        "str1=\"Is there a dog here?\"\n",
        "def findDog(str1):\n",
        "        lwr = str1.lower()\n",
        "        if 'dog' in lwr:\n",
        "            return True\n",
        "        else:\n",
        "            return False\n",
        "findDog(str1)"
      ],
      "metadata": {
        "colab": {
          "base_uri": "https://localhost:8080/"
        },
        "id": "brzYW8uZepwO",
        "outputId": "20ba7d4c-5b33-4456-8c7c-0b152f98492f"
      },
      "execution_count": 11,
      "outputs": [
        {
          "output_type": "execute_result",
          "data": {
            "text/plain": [
              "True"
            ]
          },
          "metadata": {},
          "execution_count": 11
        }
      ]
    },
    {
      "cell_type": "code",
      "source": [
        "# Create a function that counts the number of times the word \"dog\" occurs in a string. Again ignore edge cases.\n",
        "countDog='This dog runs faster than the other dog dude!'\n",
        "def cnt_dog(string):\n",
        "    cnt = string.count(\"dog\")\n",
        "    print(\"The word 'dog' appears {} times.\".format(cnt))\n",
        "cnt_dog(countDog)"
      ],
      "metadata": {
        "colab": {
          "base_uri": "https://localhost:8080/"
        },
        "id": "zNqm84LaevfW",
        "outputId": "488ecc06-4825-46ba-cb74-2ebd403e0e1d"
      },
      "execution_count": 12,
      "outputs": [
        {
          "output_type": "stream",
          "name": "stdout",
          "text": [
            "The word 'dog' appears 2 times.\n"
          ]
        }
      ]
    },
    {
      "cell_type": "code",
      "source": [
        "#Use lambda expressions and the filter() function to filter out words from a list that don't start with the letter 's'\n",
        "#For example: seq = ['soup','dog','salad','cat','great']\n",
        "#should be filtered down to: ['soup','salad']\n",
        "seq = ['soup','dog','salad','cat','great']\n",
        "m=filter(lambda x : not x.startswith('s'),seq)\n",
        "print(list(m))\n"
      ],
      "metadata": {
        "colab": {
          "base_uri": "https://localhost:8080/"
        },
        "id": "gDIcbVyMe1rO",
        "outputId": "a3977515-495e-4ccc-f853-4fc5a1b37da9"
      },
      "execution_count": 13,
      "outputs": [
        {
          "output_type": "stream",
          "name": "stdout",
          "text": [
            "['dog', 'cat', 'great']\n"
          ]
        }
      ]
    },
    {
      "cell_type": "code",
      "source": [
        "# ### Final Problem\n",
        "# You are driving a little too fast, and a police officer stops you. Write a function\n",
        "# to return one of 3 possible results: \"No ticket\", \"Small ticket\", or \"Big Ticket\".\n",
        "# If your speed is 60 or less, the result is \"No Ticket\". If speed is between 61\n",
        "# and 80 inclusive, the result is \"Small Ticket\". If speed is 81 or more, the result is \"Big Ticket\".\n",
        "# Unless it is your birthday (encoded as a boolean value in the parameters of the function)\n",
        "# -- on your birthday, your speed can be 5 higher in all cases.\n",
        "def caught_speeding(speed, is_birthday):\n",
        "    if speed <= 60:\n",
        "        if is_birthday == True:\n",
        "            print(speed * 5)\n",
        "        else:\n",
        "            print(\"No Ticket\")\n",
        "    elif speed > 60 and speed <= 80:\n",
        "        if is_birthday == True:\n",
        "            print(speed * 5)\n",
        "        else:\n",
        "            print(\"Small Ticket\")\n",
        "    elif speed > 80:\n",
        "        if is_birthday == True:\n",
        "            print(speed * 5)\n",
        "        else:\n",
        "            print(\"Big Ticket\")\n",
        "caught_speeding(60,False)\n",
        "caught_speeding(81,True)\n",
        "caught_speeding(81,False)"
      ],
      "metadata": {
        "colab": {
          "base_uri": "https://localhost:8080/"
        },
        "id": "0yJ-cjkMe9ju",
        "outputId": "4b81ea54-376b-499a-9bfc-65a008807368"
      },
      "execution_count": 14,
      "outputs": [
        {
          "output_type": "stream",
          "name": "stdout",
          "text": [
            "No Ticket\n",
            "405\n",
            "Big Ticket\n"
          ]
        }
      ]
    },
    {
      "cell_type": "code",
      "source": [
        "# Question\n",
        "# Given a string print number num by extracting all the digits from the string as in string\n",
        "# Print negative number if the first character in string is '-'\n",
        "# eg: -123abcd should return -123,abcd456-->456,fdhfh78dsd89--->7889,-56dssd78-->-5678\n",
        "str1='-zyxw2004abc34'\n",
        "def num(str1):\n",
        "  lst=[]\n",
        "  for i in str1:\n",
        "    if i.isdigit() or i=='-':\n",
        "      lst.append(i)\n",
        "  return \"\".join(lst)\n",
        "num(str1)"
      ],
      "metadata": {
        "colab": {
          "base_uri": "https://localhost:8080/",
          "height": 35
        },
        "id": "y0Hqt8w6fIUe",
        "outputId": "1b99350e-feb7-456f-aa08-475e52393dc7"
      },
      "execution_count": 25,
      "outputs": [
        {
          "output_type": "execute_result",
          "data": {
            "text/plain": [
              "'-200434'"
            ],
            "application/vnd.google.colaboratory.intrinsic+json": {
              "type": "string"
            }
          },
          "metadata": {},
          "execution_count": 25
        }
      ]
    },
    {
      "cell_type": "code",
      "source": [
        "# Q2\n",
        "# WAP to check whether a number is palindrome or not on following conditions.\n",
        "# 1. take input number\n",
        "# 2. add number and its reverse\n",
        "# 3. check that number is palindrome or not,if not then sum and its reverse\n",
        "def is_palindrome(num):\n",
        "    str1 = str(num)\n",
        "    rev = 0\n",
        "    reverse = str1[::-1]\n",
        "    if str1 == reverse:\n",
        "        print(num,\"is pallindrome !!\")\n",
        "    else:\n",
        "        while num > 0:\n",
        "            remainder=num%10\n",
        "            rev=rev * 10 + remainder\n",
        "            num=num // 10\n",
        "        return rev\n",
        "input_num = int(input(\"Enter any number : \"))\n",
        "is_palindrome(input_num)\n"
      ],
      "metadata": {
        "colab": {
          "base_uri": "https://localhost:8080/"
        },
        "id": "6SuIYGhUfQPD",
        "outputId": "8e8f7811-3ffb-4c73-a8cb-f63160b05f66"
      },
      "execution_count": 23,
      "outputs": [
        {
          "name": "stdout",
          "output_type": "stream",
          "text": [
            "Enter any number : 123\n"
          ]
        },
        {
          "output_type": "execute_result",
          "data": {
            "text/plain": [
              "321"
            ]
          },
          "metadata": {},
          "execution_count": 23
        }
      ]
    },
    {
      "cell_type": "code",
      "source": [
        "# Write a python function to find and display the five\n",
        "# digit number in which the first digit is two more than\n",
        "# the second,the second digit is two more than the third,\n",
        "# the fourth digit is two less than the third, and the\n",
        "# last digit is two more than\n",
        "# the fourth.The sum of the third,fourth and fifth digits\n",
        "# equals the first.The sum of all the digits is 19\n",
        "def find_five_digit():\n",
        "    for i in range(10000,100000):\n",
        "        dig = [int(d) for d in str(i)]\n",
        "        if (dig[0] - dig[1] == 2) and (dig[1] - dig[2] == 2) and (dig[3] == dig[2] - 2) and (dig[4] == dig[3] + 2) and (dig[2] + dig[3] + dig[4] == dig[0] and (sum(dig)) == 19):\n",
        "            return i\n",
        "res=find_five_digit()\n",
        "print(res)"
      ],
      "metadata": {
        "colab": {
          "base_uri": "https://localhost:8080/"
        },
        "id": "3aelqLPnfUa1",
        "outputId": "f6572de3-4650-4dbb-a401-a6cfe1a88c5f"
      },
      "execution_count": 17,
      "outputs": [
        {
          "output_type": "stream",
          "name": "stdout",
          "text": [
            "75313\n"
          ]
        }
      ]
    },
    {
      "cell_type": "code",
      "source": [],
      "metadata": {
        "id": "2sKR709Dfdw-"
      },
      "execution_count": null,
      "outputs": []
    }
  ]
}